{
 "cells": [
  {
   "cell_type": "markdown",
   "id": "ab8ae3e3",
   "metadata": {},
   "source": [
    "### 1. Conexión y Carga de Datos en DataFrames\n",
    "#### Primero, establecemos la conexión y cargamos algunas de las tablas clave en DataFrames de pandas para facilitar su manipulación."
   ]
  },
  {
   "cell_type": "code",
   "execution_count": 1,
   "id": "a7c25964",
   "metadata": {},
   "outputs": [],
   "source": [
    "import pandas as pd\n",
    "from sqlalchemy import create_engine, text\n",
    "\n",
    "# Reutilizamos la configuración de nuestro script anterior\n",
    "SERVER_NAME = \"DESKTOP-4M217QU\"\n",
    "DATABASE_NAME = \"EcommerceDB\"\n",
    "\n",
    "# Connection String para SQLAlchemy\n",
    "engine_conn_str = (\n",
    "    f\"mssql+pyodbc://@{SERVER_NAME}/{DATABASE_NAME}?\"\n",
    "    f\"driver=ODBC+Driver+17+for+SQL+Server&\"\n",
    "    f\"trusted_connection=yes\"\n",
    ")\n",
    "\n",
    "engine = create_engine(engine_conn_str)\n",
    "\n",
    "# Cargamos las tablas en DataFrames\n",
    "with engine.connect() as connection:\n",
    "    df_usuarios = pd.read_sql(\"SELECT * FROM Usuarios\", connection)\n",
    "    df_ordenes = pd.read_sql(\"SELECT * FROM Ordenes\", connection)\n",
    "    df_detalles = pd.read_sql(\"SELECT * FROM DetalleOrdenes\", connection)\n",
    "    df_direcciones = pd.read_sql(\"SELECT * FROM DireccionesEnvio\", connection)\n",
    "    df_productos = pd.read_sql(\"SELECT * FROM Productos\", connection)\n"
   ]
  },
  {
   "cell_type": "markdown",
   "id": "bdc942cf",
   "metadata": {},
   "source": [
    "### 2. Análisis Cuantitativo\n",
    "#### Conteo de Registros por Tabla (Verificamos el volumen de datos en cada tabla principal.)"
   ]
  },
  {
   "cell_type": "code",
   "execution_count": 4,
   "id": "63fb72dc",
   "metadata": {},
   "outputs": [
    {
     "name": "stdout",
     "output_type": "stream",
     "text": [
      "Contando registros en cada tabla...\n",
      "- Tabla 'Usuarios': 317 registros.\n",
      "- Tabla 'Categorias': 12 registros.\n",
      "- Tabla 'Productos': 36 registros.\n",
      "- Tabla 'Ordenes': 5 registros.\n",
      "- Tabla 'DetalleOrdenes': 0 registros.\n",
      "- Tabla 'DireccionesEnvio': 317 registros.\n",
      "- Tabla 'Carrito': 4 registros.\n",
      "- Tabla 'MetodosPago': 7 registros.\n",
      "- Tabla 'OrdenesMetodosPago': 5 registros.\n",
      "- Tabla 'ReseñasProductos': 2 registros.\n",
      "- Tabla 'HistorialPagos': 5 registros.\n",
      "\n",
      "--- Resumen en formato de tabla ---\n",
      "             Tabla  Cantidad de Registros\n",
      "          Usuarios                    317\n",
      "        Categorias                     12\n",
      "         Productos                     36\n",
      "           Ordenes                      5\n",
      "    DetalleOrdenes                      0\n",
      "  DireccionesEnvio                    317\n",
      "           Carrito                      4\n",
      "       MetodosPago                      7\n",
      "OrdenesMetodosPago                      5\n",
      "  ReseñasProductos                      2\n",
      "    HistorialPagos                      5\n"
     ]
    }
   ],
   "source": [
    "import pandas as pd\n",
    "from sqlalchemy import create_engine, text # <--- 1. IMPORTANTE: Añadir 'text' aquí\n",
    "\n",
    "# --- 1. Configuración de la Conexión (Asegúrate que estos datos son correctos) ---\n",
    "SERVER_NAME = \"DESKTOP-4M217QU\"\n",
    "DATABASE_NAME = \"EcommerceDB\"\n",
    "\n",
    "engine_conn_str = (\n",
    "    f\"mssql+pyodbc://@{SERVER_NAME}/{DATABASE_NAME}?\"\n",
    "    f\"driver=ODBC+Driver+17+for+SQL+Server&\"\n",
    "    f\"trusted_connection=yes\"\n",
    ")\n",
    "engine = create_engine(engine_conn_str)\n",
    "\n",
    "# --- 2. Código para Contar Registros en todas las tablas ---\n",
    "\n",
    "# Lista de todas las tablas que queremos contar\n",
    "tablas_a_contar = [\n",
    "    'Usuarios', 'Categorias', 'Productos', 'Ordenes', 'DetalleOrdenes',\n",
    "    'DireccionesEnvio', 'Carrito', 'MetodosPago', 'OrdenesMetodosPago',\n",
    "    'ReseñasProductos', 'HistorialPagos'\n",
    "]\n",
    "\n",
    "# Creamos una lista para guardar los resultados\n",
    "resultados_conteo = []\n",
    "\n",
    "# Usamos una conexión para ejecutar todas las consultas\n",
    "with engine.connect() as connection:\n",
    "    print(\"Contando registros en cada tabla...\")\n",
    "    for tabla in tablas_a_contar:\n",
    "        # Creamos la consulta SQL dinámicamente\n",
    "        query = f\"SELECT COUNT(*) FROM {tabla}\"\n",
    "        \n",
    "        # --- 2. LA CORRECCIÓN ESTÁ AQUÍ ---\n",
    "        # Envolvemos la consulta en la función text()\n",
    "        cantidad = connection.execute(text(query)).scalar()\n",
    "        \n",
    "        resultados_conteo.append({'Tabla': tabla, 'Cantidad de Registros': cantidad})\n",
    "        print(f\"- Tabla '{tabla}': {cantidad} registros.\")\n",
    "\n",
    "print(\"\\n--- Resumen en formato de tabla ---\")\n",
    "# Convertimos la lista de resultados en un DataFrame de pandas para una mejor visualización\n",
    "df_conteo = pd.DataFrame(resultados_conteo)\n",
    "\n",
    "# Mostramos el DataFrame\n",
    "print(df_conteo.to_string(index=False))"
   ]
  },
  {
   "cell_type": "markdown",
   "id": "7ad00fff",
   "metadata": {},
   "source": [
    "### Análisis de Valores Nulos\n",
    "#### Buscamos columnas con datos faltantes."
   ]
  },
  {
   "cell_type": "code",
   "execution_count": 5,
   "id": "640965b2",
   "metadata": {},
   "outputs": [
    {
     "name": "stdout",
     "output_type": "stream",
     "text": [
      "ProductoID     0\n",
      "Nombre         0\n",
      "Descripcion    0\n",
      "Precio         0\n",
      "Stock          0\n",
      "CategoriaID    0\n",
      "dtype: int64\n"
     ]
    }
   ],
   "source": [
    "# En Python, usando los DataFrames cargados:\n",
    "print(df_productos.isnull().sum())"
   ]
  }
 ],
 "metadata": {
  "kernelspec": {
   "display_name": "Python 3",
   "language": "python",
   "name": "python3"
  },
  "language_info": {
   "codemirror_mode": {
    "name": "ipython",
    "version": 3
   },
   "file_extension": ".py",
   "mimetype": "text/x-python",
   "name": "python",
   "nbconvert_exporter": "python",
   "pygments_lexer": "ipython3",
   "version": "3.13.3"
  }
 },
 "nbformat": 4,
 "nbformat_minor": 5
}
